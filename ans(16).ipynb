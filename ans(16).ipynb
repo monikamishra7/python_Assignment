{
 "cells": [
  {
   "cell_type": "code",
   "execution_count": null,
   "id": "668b3d16",
   "metadata": {},
   "outputs": [],
   "source": [
    "Write a function that stutters a word as if someone is struggling to read it. The first two letters are repeated twice with an ellipsis ... and space after each, and then the word is pronounced with a question mark ?.\n"
   ]
  },
  {
   "cell_type": "code",
   "execution_count": null,
   "id": "5182a946",
   "metadata": {},
   "outputs": [],
   "source": [
    "def stutter(word):\n",
    "    s = word[:2]\n",
    "    return (2 * (s + '... ')) + word + '?'\n",
    "\n",
    "\n",
    "print(stutter(\"incredible\"))"
   ]
  },
  {
   "cell_type": "code",
   "execution_count": null,
   "id": "21381603",
   "metadata": {},
   "outputs": [],
   "source": [
    "Create a function that takes an angle in radians and returns the corresponding angle in degrees rounded to one decimal place.\n"
   ]
  },
  {
   "cell_type": "code",
   "execution_count": 1,
   "id": "80c971cb",
   "metadata": {},
   "outputs": [],
   "source": [
    "import math\n",
    "def degree(x):\n",
    "    pi=math.pi\n",
    "    degree=(x*180)/pi\n",
    "    return degree"
   ]
  },
  {
   "cell_type": "code",
   "execution_count": null,
   "id": "22156d5c",
   "metadata": {},
   "outputs": [],
   "source": [
    "In this challenge, establish if a given integer num is a Curzon number. If 1 plus 2 elevated to num is exactly divisible by 1 plus 2 multiplied by num, then num is a Curzon number"
   ]
  },
  {
   "cell_type": "code",
   "execution_count": null,
   "id": "b9e9c8b5",
   "metadata": {},
   "outputs": [],
   "source": [
    "def multiple(m, n):\n",
    "\treturn True if m % n == 0 else False\n",
    "\n",
    "print(multiple(20, 5))\n",
    "print(multiple(7, 2))"
   ]
  },
  {
   "cell_type": "code",
   "execution_count": null,
   "id": "21e137ef",
   "metadata": {},
   "outputs": [],
   "source": [
    "Question 4.Given the side length x find the area of a hexagon.\n",
    " \n"
   ]
  },
  {
   "cell_type": "code",
   "execution_count": null,
   "id": "7b9a23c1",
   "metadata": {},
   "outputs": [],
   "source": [
    ". Create a function that returns a base-2 (binary) representation of a base-10 (decimal) string number. To convert is simple: ((2) means base-2 and (10) means base-10) 010101001(2) = 1 + 8 + 32 + 128.\n"
   ]
  },
  {
   "cell_type": "code",
   "execution_count": null,
   "id": "ae125afb",
   "metadata": {},
   "outputs": [],
   "source": []
  },
  {
   "cell_type": "code",
   "execution_count": null,
   "id": "7e5db254",
   "metadata": {},
   "outputs": [],
   "source": []
  },
  {
   "cell_type": "code",
   "execution_count": null,
   "id": "76ae0f1e",
   "metadata": {},
   "outputs": [],
   "source": []
  },
  {
   "cell_type": "code",
   "execution_count": null,
   "id": "9ffe711f",
   "metadata": {},
   "outputs": [],
   "source": []
  },
  {
   "cell_type": "code",
   "execution_count": null,
   "id": "9cf79fdc",
   "metadata": {},
   "outputs": [],
   "source": []
  },
  {
   "cell_type": "code",
   "execution_count": null,
   "id": "42a036d3",
   "metadata": {},
   "outputs": [],
   "source": []
  },
  {
   "cell_type": "code",
   "execution_count": null,
   "id": "58a874f0",
   "metadata": {},
   "outputs": [],
   "source": []
  }
 ],
 "metadata": {
  "kernelspec": {
   "display_name": "Python 3 (ipykernel)",
   "language": "python",
   "name": "python3"
  },
  "language_info": {
   "codemirror_mode": {
    "name": "ipython",
    "version": 3
   },
   "file_extension": ".py",
   "mimetype": "text/x-python",
   "name": "python",
   "nbconvert_exporter": "python",
   "pygments_lexer": "ipython3",
   "version": "3.9.12"
  }
 },
 "nbformat": 4,
 "nbformat_minor": 5
}
