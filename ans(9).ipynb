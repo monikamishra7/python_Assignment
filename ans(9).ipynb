{
 "cells": [
  {
   "cell_type": "code",
   "execution_count": null,
   "id": "394a7e9c",
   "metadata": {},
   "outputs": [],
   "source": [
    "Write a Python program to check if the given number is a Disarium Number?\n"
   ]
  },
  {
   "cell_type": "code",
   "execution_count": null,
   "id": "66bcb177",
   "metadata": {},
   "outputs": [],
   "source": [
    "num = int(input())\n",
    "rem = s = 0;    \n",
    "len = len(str(num))\n",
    "     \n",
    "#Makes a copy of the original number num    \n",
    "n = num;    \n",
    "     \n",
    "#Calculates the sum of digits powered with their respective position    \n",
    "while(num > 0):    \n",
    "    rem = num%10;    \n",
    "    s += int(rem**len);    \n",
    "    num = num//10;    \n",
    "    len -= 1;    \n",
    "     \n",
    "#Checks whether the sum is equal to the number itself    \n",
    "if(s == n):    \n",
    "    print( \"disarium number\");    \n",
    "else:    \n",
    "    print(\" not a disarium number\");    "
   ]
  },
  {
   "cell_type": "code",
   "execution_count": null,
   "id": "54b6fc11",
   "metadata": {},
   "outputs": [],
   "source": [
    "Write a Python program to print all disarium numbers between 1 to 100?\n"
   ]
  },
  {
   "cell_type": "code",
   "execution_count": null,
   "id": "e79e0f55",
   "metadata": {},
   "outputs": [],
   "source": [
    "#Python Program to Print Disarium Numbers from 1 to N\n",
    "import math\n",
    "\n",
    "def digitsCount(Number):\n",
    "    length = 0\n",
    "    while Number != 0:\n",
    "        length = length + 1\n",
    "        Number = Number // 10\n",
    "    return length\n",
    "\n",
    "def digitsSum(Number):\n",
    "    Sum = 0\n",
    "    rem = 0\n",
    "    length = digitsCount(Number)\n",
    "    while Number > 0:\n",
    "        rem = Number % 10\n",
    "        Sum = Sum + math.pow(rem, length)\n",
    "        Number = Number // 10\n",
    "        length = length - 1\n",
    "    return Sum\n",
    "\n",
    "\n",
    "minDis = int(input(\"Enter the Minimum Disarium Number = \"))\n",
    "maxDis = int(input(\"Enter the Maximum Disarium Number = \"))\n",
    "\n",
    "print(\"\\nThe List of Disarium Numbers from {0} and {1}\".format(minDis, maxDis)) \n",
    "for i in range(minDis, maxDis):\n",
    "    Sum = digitsSum(i)\n",
    "\n",
    "    if Sum == i:\n",
    "        print(i, end = \"   \")\n"
   ]
  },
  {
   "cell_type": "code",
   "execution_count": null,
   "id": "3c4aa803",
   "metadata": {},
   "outputs": [],
   "source": [
    "Python Program to Print Disarium Numbers from 1 to N\n",
    "import math\n",
    "\n",
    "def digitsCount(Number):\n",
    "    length = 0\n",
    "    while Number != 0:\n",
    "        length = length + 1\n",
    "        Number = Number // 10\n",
    "    return length\n",
    "\n",
    "def digitsSum(Number):\n",
    "    Sum = 0\n",
    "    rem = 0\n",
    "    length = digitsCount(Number)\n",
    "    while Number > 0:\n",
    "        rem = Number % 10\n",
    "        Sum = Sum + math.pow(rem, length)\n",
    "        Number = Number // 10\n",
    "        length = length - 1\n",
    "    return Sum\n",
    "\n",
    "\n",
    "minDis = int(input(\"Enter the Minimum Disarium Number = \"))\n",
    "maxDis = int(input(\"Enter the Maximum Disarium Number = \"))\n",
    "\n",
    "print(\"\\nThe List of Disarium Numbers from {0} and {1}\".format(minDis, maxDis)) \n",
    "for i in range(minDis, maxDis):\n",
    "    Sum = digitsSum(i)\n",
    "\n",
    "    if Sum == i:\n",
    "        print(i, end = \"   \")\n",
    "\n"
   ]
  },
  {
   "cell_type": "code",
   "execution_count": null,
   "id": "d5360dc1",
   "metadata": {},
   "outputs": [],
   "source": [
    "Write a Python program to print all happy numbers between 1 and 100?\n"
   ]
  },
  {
   "cell_type": "code",
   "execution_count": null,
   "id": "54e64db7",
   "metadata": {},
   "outputs": [],
   "source": [
    "def Length(n):    \n",
    "    length = 0;    \n",
    "    while(n != 0):                    # calculating the length of the number\n",
    "        length = length + 1;    \n",
    "        n = n//10;    \n",
    "    return length;    \n",
    "     \n",
    "#sumDigit()  \n",
    "def sumdigit(num):    \n",
    "    rem = sum = 0;    \n",
    "    len = Length(num);     # checking the number is disarium or not\n",
    "        \n",
    "    while(num > 0):    \n",
    "        rem = num;   \n",
    "        sum = sum + (rem**len);    \n",
    "        num = num//10;    \n",
    "        len = len - 1;    \n",
    "    return sum;    \n",
    "      \n",
    "result = 0;    \n",
    "     \n",
    "\n",
    "print(\"Disarium numbers between 1 and 100 are\");    \n",
    "for i in range(1, 101):           # printing disarium numbers\n",
    "    result = sumdigit(i);    \n",
    "        \n",
    "    if(result == i):    \n",
    "        print(i),   "
   ]
  },
  {
   "cell_type": "code",
   "execution_count": null,
   "id": "27826f6e",
   "metadata": {},
   "outputs": [],
   "source": [
    "⦁\tWrite a Python program to print all pronic numbers between 1 and 100?"
   ]
  },
  {
   "cell_type": "code",
   "execution_count": null,
   "id": "b5ba6528",
   "metadata": {},
   "outputs": [],
   "source": [
    "#isPronicNumber() will determine whether a given number is a pronic number or not    \n",
    "def isPronicNumber(num):    \n",
    "    flag = False;    \n",
    "        \n",
    "    for j in range(1, num+1):    \n",
    "        #Checks for pronic number by multiplying consecutive numbers    \n",
    "        if((j*(j+1)) == num):    \n",
    "            flag = True;    \n",
    "            break;    \n",
    "    return flag;    \n",
    "     \n",
    "#Displays pronic numbers between 1 and 100    \n",
    "print(\"Pronic numbers between 1 and 100: \");    \n",
    "for i in range(1, 101):    \n",
    "    if(isPronicNumber(i)):    \n",
    "        print(i),    \n",
    "        print(\" \"),    "
   ]
  },
  {
   "cell_type": "code",
   "execution_count": null,
   "id": "f20905bc",
   "metadata": {},
   "outputs": [],
   "source": []
  },
  {
   "cell_type": "code",
   "execution_count": null,
   "id": "1a339dd5",
   "metadata": {},
   "outputs": [],
   "source": []
  },
  {
   "cell_type": "code",
   "execution_count": null,
   "id": "24059d0c",
   "metadata": {},
   "outputs": [],
   "source": []
  },
  {
   "cell_type": "code",
   "execution_count": null,
   "id": "547a2f0e",
   "metadata": {},
   "outputs": [],
   "source": []
  },
  {
   "cell_type": "code",
   "execution_count": null,
   "id": "20622c5c",
   "metadata": {},
   "outputs": [],
   "source": []
  }
 ],
 "metadata": {
  "kernelspec": {
   "display_name": "Python 3 (ipykernel)",
   "language": "python",
   "name": "python3"
  },
  "language_info": {
   "codemirror_mode": {
    "name": "ipython",
    "version": 3
   },
   "file_extension": ".py",
   "mimetype": "text/x-python",
   "name": "python",
   "nbconvert_exporter": "python",
   "pygments_lexer": "ipython3",
   "version": "3.9.12"
  }
 },
 "nbformat": 4,
 "nbformat_minor": 5
}
