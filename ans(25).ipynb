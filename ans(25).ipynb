{
 "cells": [
  {
   "cell_type": "code",
   "execution_count": null,
   "id": "9b62f76e",
   "metadata": {},
   "outputs": [],
   "source": [
    "What is the difference between enclosing a list comprehension in square brackets and parentheses?\n",
    "The notation may be a little confusing, but just remember that square brackets mean the end point is included, and round parentheses mean it's excluded. If both end points are included the interval is said to be closed, if they are both excluded it's said to be open.\n"
   ]
  },
  {
   "cell_type": "code",
   "execution_count": null,
   "id": "9b2a4cb2",
   "metadata": {},
   "outputs": [],
   "source": [
    "What is the relationship between generators and iterators?\n",
    "Iterators are the objects that use the next() method to get the next value of the sequence. A generator is a function that produces or yields a sequence of values using a yield statement. Classes are used to Implement the iterators. Functions are used to implement the generato\n"
   ]
  },
  {
   "cell_type": "code",
   "execution_count": null,
   "id": "358a80b9",
   "metadata": {},
   "outputs": [],
   "source": [
    "What are the signs that a function is a generator function?\n",
    "If a function contains at least one yield statement (it may contain other yield or return statements), it becomes a generator function. Both yield and return will return some value from a function.\n"
   ]
  },
  {
   "cell_type": "code",
   "execution_count": null,
   "id": "088fe500",
   "metadata": {},
   "outputs": [],
   "source": [
    "What is the purpose of a yield statement?\n",
    "The yield statement returns a generator object to the one who calls the function which contains yield, instead of simply returning a value\n"
   ]
  },
  {
   "cell_type": "code",
   "execution_count": null,
   "id": "3cef93eb",
   "metadata": {},
   "outputs": [],
   "source": [
    "What is the relationship between map calls and list comprehensions? Make a comparison and contrast between the two.\n",
    "List comprehension is more concise and easier to read as compared to map. List comprehension are used when a list of results is required as map only returns a map object and does not return any list. Map is faster in case of calling an already defined function (as no lambda is required)"
   ]
  },
  {
   "cell_type": "code",
   "execution_count": null,
   "id": "b4b464ce",
   "metadata": {},
   "outputs": [],
   "source": []
  },
  {
   "cell_type": "code",
   "execution_count": null,
   "id": "20b92aec",
   "metadata": {},
   "outputs": [],
   "source": []
  },
  {
   "cell_type": "code",
   "execution_count": null,
   "id": "63be5f67",
   "metadata": {},
   "outputs": [],
   "source": []
  },
  {
   "cell_type": "code",
   "execution_count": null,
   "id": "ec79a36b",
   "metadata": {},
   "outputs": [],
   "source": []
  },
  {
   "cell_type": "code",
   "execution_count": null,
   "id": "b6fd089e",
   "metadata": {},
   "outputs": [],
   "source": []
  },
  {
   "cell_type": "code",
   "execution_count": null,
   "id": "62068373",
   "metadata": {},
   "outputs": [],
   "source": []
  },
  {
   "cell_type": "code",
   "execution_count": null,
   "id": "2cc58c2f",
   "metadata": {},
   "outputs": [],
   "source": []
  },
  {
   "cell_type": "code",
   "execution_count": null,
   "id": "518d8a36",
   "metadata": {},
   "outputs": [],
   "source": []
  }
 ],
 "metadata": {
  "kernelspec": {
   "display_name": "Python 3 (ipykernel)",
   "language": "python",
   "name": "python3"
  },
  "language_info": {
   "codemirror_mode": {
    "name": "ipython",
    "version": 3
   },
   "file_extension": ".py",
   "mimetype": "text/x-python",
   "name": "python",
   "nbconvert_exporter": "python",
   "pygments_lexer": "ipython3",
   "version": "3.9.12"
  }
 },
 "nbformat": 4,
 "nbformat_minor": 5
}
