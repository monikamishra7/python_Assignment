{
 "cells": [
  {
   "cell_type": "code",
   "execution_count": null,
   "id": "2b086a97",
   "metadata": {},
   "outputs": [],
   "source": [
    "What is the relationship between def statements and lambda expressions ?\n"
   ]
  },
  {
   "cell_type": "code",
   "execution_count": null,
   "id": "4ce43e01",
   "metadata": {},
   "outputs": [],
   "source": [
    "The def defined functions do not return anything if not explicitly returned whereas the lambda function does return an object\n"
   ]
  },
  {
   "cell_type": "code",
   "execution_count": null,
   "id": "d1924457",
   "metadata": {},
   "outputs": [],
   "source": [
    "What is the benefit of lambda?\n",
    "The lambda keyword in Python provides a shortcut for declaring small anonymous functions. Lambda functions behave just like regular functions declared with the def keyword. They can be used whenever function objects are required.\n"
   ]
  },
  {
   "cell_type": "code",
   "execution_count": null,
   "id": "1503a10d",
   "metadata": {},
   "outputs": [],
   "source": [
    "Compare and contrast map, filter, and reduce.\n",
    "reduce() works differently than map() and filter() . It does not return a new list based on the function and iterable we've passed. Instead, it returns a single value. Also, in Python 3 reduce() isn't a built-in function anymore, and it can be found in the functools module.\n"
   ]
  },
  {
   "cell_type": "code",
   "execution_count": null,
   "id": "43f9c159",
   "metadata": {},
   "outputs": [],
   "source": [
    "What are function annotations, and how are they used?\n",
    "Function annotations are arbitrary python expressions that are associated with various part of functions. These expressions are evaluated at compile time and have no life in python's runtime environment. Python does not attach any meaning to these annotations.\n"
   ]
  },
  {
   "cell_type": "code",
   "execution_count": null,
   "id": "8cb099f2",
   "metadata": {},
   "outputs": [],
   "source": [
    "What are recursive functions, and how are they used?\n",
    "A recursive function is a function in code that refers to itself for execution. Recursive functions can be simple or elaborate. They allow for more efficient code writing, for instance, in the listing or compiling of sets of numbers, strings or other variables through a single reiterated process.\n"
   ]
  },
  {
   "cell_type": "code",
   "execution_count": null,
   "id": "a329f1c2",
   "metadata": {},
   "outputs": [],
   "source": [
    "What are some general design guidelines for coding functions?\n",
    "Use 4 spaces instead of tabs.\n",
    "Maximum line length is 120 symbols.\n",
    "2 blank lines between classes and functions.\n",
    "1 blank line within class between class methods.\n",
    "No blank line following a def line.\n",
    "No whitespace inside parentheses, brackets, or braces.\n"
   ]
  },
  {
   "cell_type": "code",
   "execution_count": null,
   "id": "734d91d7",
   "metadata": {},
   "outputs": [],
   "source": [
    "Name three or more ways that functions can communicate results to a caller.\n",
    "A Function in Python is a piece of code which runs when it is referenced. It is used to utilize the code in more than one place in a program. It is also called method or procedure. Python provides many inbuilt functions like print(), input(), compile(), exec(), etc. but it also gives freedom to create your own functions.\n"
   ]
  },
  {
   "cell_type": "code",
   "execution_count": null,
   "id": "cae55c75",
   "metadata": {},
   "outputs": [],
   "source": []
  }
 ],
 "metadata": {
  "kernelspec": {
   "display_name": "Python 3 (ipykernel)",
   "language": "python",
   "name": "python3"
  },
  "language_info": {
   "codemirror_mode": {
    "name": "ipython",
    "version": 3
   },
   "file_extension": ".py",
   "mimetype": "text/x-python",
   "name": "python",
   "nbconvert_exporter": "python",
   "pygments_lexer": "ipython3",
   "version": "3.9.12"
  }
 },
 "nbformat": 4,
 "nbformat_minor": 5
}
