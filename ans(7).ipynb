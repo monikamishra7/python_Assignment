{
 "cells": [
  {
   "cell_type": "code",
   "execution_count": null,
   "id": "4b3396d0",
   "metadata": {},
   "outputs": [],
   "source": [
    "Write a Python Program to find sum of array?\n"
   ]
  },
  {
   "cell_type": "code",
   "execution_count": 1,
   "id": "75374fc3",
   "metadata": {},
   "outputs": [
    {
     "name": "stdout",
     "output_type": "stream",
     "text": [
      "256\n"
     ]
    }
   ],
   "source": [
    "arr = [10, 89, 9, 56, 4, 80, 8]\n",
    "Sum = 0\n",
    "\n",
    "for i in range(len(arr)):\n",
    "   Sum = Sum + arr[i]\n",
    "print (Sum)"
   ]
  },
  {
   "cell_type": "code",
   "execution_count": null,
   "id": "65ba7ba4",
   "metadata": {},
   "outputs": [],
   "source": [
    "Write a Python Program to find largest element in an array?\n"
   ]
  },
  {
   "cell_type": "code",
   "execution_count": 3,
   "id": "99c16b66",
   "metadata": {},
   "outputs": [
    {
     "name": "stdout",
     "output_type": "stream",
     "text": [
      "Largest in given array  9808\n"
     ]
    }
   ],
   "source": [
    " #Python3 program to find maximum\n",
    "# in arr[] of size n\n",
    "def largest(arr, n):\n",
    "    ans = max(arr)\n",
    "    return ans;\n",
    " \n",
    "# Driver code\n",
    "if __name__ == '__main__':\n",
    "    arr = [10, 324, 45, 90, 9808]\n",
    "    n = len(arr)\n",
    "    print (\"Largest in given array \", largest(arr, n))"
   ]
  },
  {
   "cell_type": "code",
   "execution_count": null,
   "id": "45276d6c",
   "metadata": {},
   "outputs": [],
   "source": [
    "Write a Python Program for array rotation?\n"
   ]
  },
  {
   "cell_type": "code",
   "execution_count": 5,
   "id": "417328e6",
   "metadata": {},
   "outputs": [],
   "source": [
    "#Function to left rotate arr[] of size n by d*/\n",
    "def leftRotate(arr, d, n):\n",
    "    for i in range(d):\n",
    "        leftRotatebyOne(arr, n)\n",
    " \n",
    "#Function to left Rotate arr[] of size n by 1*/\n",
    "def leftRotatebyOne(arr, n):\n",
    "    temp = arr[0]\n",
    "    for i in range(n-1):\n",
    "        arr[i] = arr[i+1]\n",
    "    arr[n-1] = temp"
   ]
  },
  {
   "cell_type": "code",
   "execution_count": null,
   "id": "a5d31e07",
   "metadata": {},
   "outputs": [],
   "source": [
    "Write a Python Program to Split the array and add the first part to the end?\n"
   ]
  },
  {
   "cell_type": "code",
   "execution_count": null,
   "id": "12f11726",
   "metadata": {},
   "outputs": [],
   "source": [
    "def split_list(my_list, n_val, k_val):\n",
    "   for i in range(0, k_val):\n",
    "      first_val = my_list[0]\n",
    "      for k in range(0, n_val-1):\n",
    "         my_list[k] = my_list[k + 1]\n",
    "      my_list[n_val-1] = first_val\n",
    "my_list = [34, 42, 56, 78, 9, 0, 23]\n",
    "list_len = len(my_list)\n",
    "pos = 3\n",
    "print(\"The list is :\")\n",
    "print(my_list)\n",
    "print(\"The split_list method is being called\")\n",
    "split_list(my_list, list_len, pos)\n",
    "for i in range(0, list_len):\n",
    "print(my_list[i])"
   ]
  },
  {
   "cell_type": "code",
   "execution_count": null,
   "id": "51bffd5a",
   "metadata": {},
   "outputs": [],
   "source": [
    "Write a Python Program to check if given array is Monotonic?\n"
   ]
  },
  {
   "cell_type": "code",
   "execution_count": 6,
   "id": "e0f73e15",
   "metadata": {},
   "outputs": [
    {
     "name": "stdout",
     "output_type": "stream",
     "text": [
      "True\n"
     ]
    }
   ],
   "source": [
    "# Python Program to check if given array is Monotonic\n",
    " \n",
    "# Check if given array is Monotonic\n",
    " \n",
    " \n",
    "def isMonotonic(A):\n",
    " \n",
    "    return (all(A[i] <= A[i + 1] for i in range(len(A) - 1)) or\n",
    "            all(A[i] >= A[i + 1] for i in range(len(A) - 1)))\n",
    " \n",
    " \n",
    "# Driver program\n",
    "A = [6, 5, 4, 4]\n",
    " \n",
    "# Print required result\n",
    "print(isMonotonic(A))\n",
    " \n",
    "# This code is written by\n",
    "# Sanjit_Prasad"
   ]
  },
  {
   "cell_type": "code",
   "execution_count": null,
   "id": "86cbd4b4",
   "metadata": {},
   "outputs": [],
   "source": []
  },
  {
   "cell_type": "code",
   "execution_count": null,
   "id": "467ccd19",
   "metadata": {},
   "outputs": [],
   "source": []
  },
  {
   "cell_type": "code",
   "execution_count": null,
   "id": "ead55048",
   "metadata": {},
   "outputs": [],
   "source": []
  },
  {
   "cell_type": "code",
   "execution_count": null,
   "id": "70fb3376",
   "metadata": {},
   "outputs": [],
   "source": []
  },
  {
   "cell_type": "code",
   "execution_count": null,
   "id": "322efb03",
   "metadata": {},
   "outputs": [],
   "source": []
  },
  {
   "cell_type": "code",
   "execution_count": null,
   "id": "ca2472cc",
   "metadata": {},
   "outputs": [],
   "source": []
  }
 ],
 "metadata": {
  "kernelspec": {
   "display_name": "Python 3 (ipykernel)",
   "language": "python",
   "name": "python3"
  },
  "language_info": {
   "codemirror_mode": {
    "name": "ipython",
    "version": 3
   },
   "file_extension": ".py",
   "mimetype": "text/x-python",
   "name": "python",
   "nbconvert_exporter": "python",
   "pygments_lexer": "ipython3",
   "version": "3.9.12"
  }
 },
 "nbformat": 4,
 "nbformat_minor": 5
}
