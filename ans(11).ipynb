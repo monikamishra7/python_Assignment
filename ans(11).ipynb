{
 "cells": [
  {
   "cell_type": "code",
   "execution_count": null,
   "id": "36e472ba",
   "metadata": {},
   "outputs": [],
   "source": [
    "Write a Python program to find words which are greater than given length k?\n"
   ]
  },
  {
   "cell_type": "code",
   "execution_count": 1,
   "id": "7d3bdcad",
   "metadata": {},
   "outputs": [
    {
     "name": "stdout",
     "output_type": "stream",
     "text": [
      "Python\n",
      "good\n"
     ]
    }
   ],
   "source": [
    "def word_k(k, s):    \n",
    "    # split the string where space comes\n",
    "    word = s.split(\" \")\n",
    "    # iterate the loop for every word\n",
    "    for x in word:\n",
    "        # if length of current word\n",
    "        if len(x)>k:\n",
    "          # greater than k then\n",
    "          print(x)\n",
    "k = 3\n",
    "s =\"Python is good\"\n",
    "word_k(k, s)\n"
   ]
  },
  {
   "cell_type": "code",
   "execution_count": null,
   "id": "a0970a2c",
   "metadata": {},
   "outputs": [],
   "source": [
    "Write a Python program for removing i-th character from a string?\n",
    " "
   ]
  },
  {
   "cell_type": "code",
   "execution_count": 2,
   "id": "10f4544f",
   "metadata": {},
   "outputs": [
    {
     "name": "stdout",
     "output_type": "stream",
     "text": [
      "geeksORgeeks\n"
     ]
    }
   ],
   "source": [
    "# Python3 program for removing i-th \n",
    "# indexed character from a string\n",
    "  \n",
    "# Removes character at index i\n",
    "def remove(string, i): \n",
    "  \n",
    "    # Characters before the i-th indexed\n",
    "    # is stored in a variable a\n",
    "    a = string[ : i] \n",
    "      \n",
    "    # Characters after the nth indexed\n",
    "    # is stored in a variable b\n",
    "    b = string[i + 1: ]\n",
    "      \n",
    "    # Returning string after removing\n",
    "    # nth indexed character.\n",
    "    return a + b\n",
    "      \n",
    "# Driver Code\n",
    "if __name__ == '__main__':\n",
    "      \n",
    "    string = \"geeksFORgeeks\"\n",
    "      \n",
    "    # Remove nth index element\n",
    "    i = 5\n",
    "    \n",
    "    # Print the new string\n",
    "    print(remove(string, i))"
   ]
  },
  {
   "cell_type": "code",
   "execution_count": null,
   "id": "ab5e2daa",
   "metadata": {},
   "outputs": [],
   "source": [
    "Write a Python program to split and join a string?\n",
    "\n"
   ]
  },
  {
   "cell_type": "code",
   "execution_count": 4,
   "id": "4a085bb2",
   "metadata": {},
   "outputs": [
    {
     "name": "stdout",
     "output_type": "stream",
     "text": [
      "['Geeks', 'for', 'Geeks']\n",
      "Geeks-for-Geeks\n"
     ]
    }
   ],
   "source": [
    "# Python code\n",
    "# to split and join given string\n",
    " \n",
    "# input string\n",
    "s = 'Geeks for Geeks'\n",
    "# print the string after split method\n",
    "print(s.split(\" \"))\n",
    "# print the string after join method\n",
    "print(\"-\".join(s.split()))\n",
    " \n",
    " "
   ]
  },
  {
   "cell_type": "code",
   "execution_count": null,
   "id": "8ae60c79",
   "metadata": {},
   "outputs": [],
   "source": [
    "Write a Python to check if a given string is binary string or not?\n"
   ]
  },
  {
   "cell_type": "code",
   "execution_count": 3,
   "id": "04f1cc81",
   "metadata": {},
   "outputs": [
    {
     "name": "stdout",
     "output_type": "stream",
     "text": [
      "Binary\n",
      "Not binary\n"
     ]
    }
   ],
   "source": [
    "def check(s):\n",
    "    binary=\"01\"\n",
    "    flag=0\n",
    "    for char in s:\n",
    "        if char not in binary:\n",
    "            flag=1\n",
    "            break\n",
    "        else:\n",
    "            pass\n",
    "    if flag==1:\n",
    "        print(\"Not binary\")\n",
    "    else:\n",
    "        print(\"Binary\")\n",
    "\n",
    "\n",
    "s1=\"101001\"\n",
    "#function calling\n",
    "check(s1)\n",
    "s2=\"02301\"\n",
    "check(s2)"
   ]
  },
  {
   "cell_type": "code",
   "execution_count": null,
   "id": "cfa896ce",
   "metadata": {},
   "outputs": [],
   "source": [
    "Write a Python program to find uncommon words from two Strings?\n"
   ]
  },
  {
   "cell_type": "code",
   "execution_count": 5,
   "id": "86735e1b",
   "metadata": {},
   "outputs": [
    {
     "name": "stdout",
     "output_type": "stream",
     "text": [
      "Enter first string : learn python programming language\n",
      "Enter second string : learn programming at includehelp\n",
      "All uncommon words from both the string are   python language at includehelp\n"
     ]
    }
   ],
   "source": [
    "# Python program to find uncommon words from two string,\n",
    "\n",
    "# Getting strings as input from the user \n",
    "str1 = input('Enter first string : ')\n",
    "str2 = input('Enter second string : ')\n",
    "\n",
    "# finding uncommon words\n",
    "str1List = str1.split()\n",
    "str2List = str2.split()\n",
    "uncommonWords = ''\n",
    "for words in str1List:\n",
    "    if words not in str2List:\n",
    "        uncommonWords = uncommonWords+\" \"+words\n",
    "for words in str2List:\n",
    "   if words not in str1List:\n",
    "        uncommonWords = uncommonWords+\" \"+words\n",
    "  \n",
    "# printing uncommon words \n",
    "print(\"All uncommon words from both the string are \", uncommonWords)"
   ]
  },
  {
   "cell_type": "code",
   "execution_count": null,
   "id": "598470d9",
   "metadata": {},
   "outputs": [],
   "source": [
    "Write a Python Program to check if a string contains any special character?\n"
   ]
  },
  {
   "cell_type": "code",
   "execution_count": 6,
   "id": "299687b5",
   "metadata": {},
   "outputs": [
    {
     "ename": "SyntaxError",
     "evalue": "invalid syntax (4011147829.py, line 1)",
     "output_type": "error",
     "traceback": [
      "\u001b[1;36m  Input \u001b[1;32mIn [6]\u001b[1;36m\u001b[0m\n\u001b[1;33m    special_characters = \"\"!@#$%^&*()-+?_=,<>/\"\"\u001b[0m\n\u001b[1;37m                           ^\u001b[0m\n\u001b[1;31mSyntaxError\u001b[0m\u001b[1;31m:\u001b[0m invalid syntax\n"
     ]
    }
   ],
   "source": [
    "special_characters = \"\"!@#$%^&*()-+?_=,<>/\"\"\n",
    "s=input()\n",
    "# Example: $tackoverflow\n",
    "\n",
    "if any(c in special_characters for c in s):\n",
    "    print(\"yes\")\n",
    "else:\n",
    "    print(\"no\")\n",
    " \n",
    "# Response: yes"
   ]
  },
  {
   "cell_type": "code",
   "execution_count": null,
   "id": "4792aa4f",
   "metadata": {},
   "outputs": [],
   "source": []
  }
 ],
 "metadata": {
  "kernelspec": {
   "display_name": "Python 3 (ipykernel)",
   "language": "python",
   "name": "python3"
  },
  "language_info": {
   "codemirror_mode": {
    "name": "ipython",
    "version": 3
   },
   "file_extension": ".py",
   "mimetype": "text/x-python",
   "name": "python",
   "nbconvert_exporter": "python",
   "pygments_lexer": "ipython3",
   "version": "3.9.12"
  }
 },
 "nbformat": 4,
 "nbformat_minor": 5
}
