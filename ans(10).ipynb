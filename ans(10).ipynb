{
 "cells": [
  {
   "cell_type": "code",
   "execution_count": null,
   "id": "a79dd252",
   "metadata": {},
   "outputs": [],
   "source": [
    "Write a Python program to find sum of elements in list?\n"
   ]
  },
  {
   "cell_type": "code",
   "execution_count": 1,
   "id": "22882d98",
   "metadata": {},
   "outputs": [
    {
     "name": "stdout",
     "output_type": "stream",
     "text": [
      "Sum of all elements in given list:  74\n"
     ]
    }
   ],
   "source": [
    "# Python program to find sum of elements in list\n",
    "total = 0\n",
    "ele = 0\n",
    " \n",
    "# creating a list\n",
    "list1 = [11, 5, 17, 18, 23]\n",
    " \n",
    "# Iterate each element in list\n",
    "# and add them in variable total\n",
    "while(ele < len(list1)):\n",
    "    total = total + list1[ele]\n",
    "    ele += 1\n",
    "     \n",
    "# printing total value\n",
    "print(\"Sum of all elements in given list: \", total)"
   ]
  },
  {
   "cell_type": "code",
   "execution_count": null,
   "id": "2b0b1df8",
   "metadata": {},
   "outputs": [],
   "source": [
    "Write a Python program to  Multiply all numbers in the list?\n"
   ]
  },
  {
   "cell_type": "code",
   "execution_count": 2,
   "id": "cce1becc",
   "metadata": {},
   "outputs": [
    {
     "name": "stdout",
     "output_type": "stream",
     "text": [
      "6\n",
      "24\n"
     ]
    },
    {
     "ename": "NameError",
     "evalue": "name 'Output' is not defined",
     "output_type": "error",
     "traceback": [
      "\u001b[1;31m---------------------------------------------------------------------------\u001b[0m",
      "\u001b[1;31mNameError\u001b[0m                                 Traceback (most recent call last)",
      "Input \u001b[1;32mIn [2]\u001b[0m, in \u001b[0;36m<cell line: 19>\u001b[1;34m()\u001b[0m\n\u001b[0;32m     17\u001b[0m \u001b[38;5;28mprint\u001b[39m(multiplyList(list1))\n\u001b[0;32m     18\u001b[0m \u001b[38;5;28mprint\u001b[39m(multiplyList(list2))\n\u001b[1;32m---> 19\u001b[0m \u001b[43mOutput\u001b[49m\n",
      "\u001b[1;31mNameError\u001b[0m: name 'Output' is not defined"
     ]
    }
   ],
   "source": [
    "#Python program to multiply all values in the\n",
    "# list using traversal\n",
    " \n",
    " \n",
    "def multiplyList(myList):\n",
    " \n",
    "    # Multiply elements one by one\n",
    "    result = 1\n",
    "    for x in myList:\n",
    "        result = result * x\n",
    "    return result\n",
    " \n",
    " \n",
    "# Driver code\n",
    "list1 = [1, 2, 3]\n",
    "list2 = [3, 2, 4]\n",
    "print(multiplyList(list1))\n",
    "print(multiplyList(list2))\n",
    "Output"
   ]
  },
  {
   "cell_type": "code",
   "execution_count": null,
   "id": "5de776e1",
   "metadata": {},
   "outputs": [],
   "source": [
    "Write a Python program to find smallest number in a list?\n"
   ]
  },
  {
   "cell_type": "code",
   "execution_count": 3,
   "id": "ecea88b0",
   "metadata": {},
   "outputs": [
    {
     "name": "stdout",
     "output_type": "stream",
     "text": [
      "Smallest element is: 4\n"
     ]
    }
   ],
   "source": [
    "# list of numbers\n",
    "list1 = [10, 20, 4, 45, 99]\n",
    " \n",
    "# sorting the list\n",
    "list1.sort(reverse=True)\n",
    " \n",
    "# printing the first element\n",
    "print(\"Smallest element is:\", list1[-1])"
   ]
  },
  {
   "cell_type": "code",
   "execution_count": null,
   "id": "70287b3f",
   "metadata": {},
   "outputs": [],
   "source": [
    "Write a Python program to find largest number in a list?\n"
   ]
  },
  {
   "cell_type": "code",
   "execution_count": null,
   "id": "85269033",
   "metadata": {},
   "outputs": [],
   "source": [
    "# Python program to find largest\n",
    "# number in a list\n",
    " \n",
    "# list of numbers\n",
    "list1 = [10, 20, 4, 45, 99]\n",
    " \n",
    "# sorting the list\n",
    "list1.sort()\n",
    " \n",
    "# printing the last element\n",
    "print(\"Largest element is:\", list1[-1])"
   ]
  },
  {
   "cell_type": "code",
   "execution_count": null,
   "id": "3100c13b",
   "metadata": {},
   "outputs": [],
   "source": [
    "Write a Python program to find second largest number in a list?\n"
   ]
  },
  {
   "cell_type": "code",
   "execution_count": 4,
   "id": "64e703d1",
   "metadata": {},
   "outputs": [
    {
     "name": "stdout",
     "output_type": "stream",
     "text": [
      "Second largest element is: 45\n"
     ]
    }
   ],
   "source": [
    "# Python program to find largest number\n",
    "# in a list\n",
    " \n",
    "# List of numbers\n",
    "list1 = [10, 20, 20, 4, 45, 45, 45, 99, 99]\n",
    " \n",
    "# Removing duplicates from the list\n",
    "list2 = list(set(list1))\n",
    " \n",
    "# Sorting the  list\n",
    "list2.sort()\n",
    " \n",
    "# Printing the second last element\n",
    "print(\"Second largest element is:\", list2[-2])"
   ]
  },
  {
   "cell_type": "code",
   "execution_count": null,
   "id": "bb0d323c",
   "metadata": {},
   "outputs": [],
   "source": [
    "Write a Python program to print even numbers in a list? list of numbers\n"
   ]
  },
  {
   "cell_type": "code",
   "execution_count": 5,
   "id": "0fb614eb",
   "metadata": {},
   "outputs": [
    {
     "name": "stdout",
     "output_type": "stream",
     "text": [
      "Even numbers in the list:  [10, 4, 66]\n"
     ]
    }
   ],
   "source": [
    "# Python program to print even Numbers in a List\n",
    " \n",
    "# list of numbers\n",
    "list1 = [10, 21, 4, 45, 66, 93]\n",
    " \n",
    "# using list comprehension\n",
    "even_nos = [num for num in list1 if num % 2 == 0]\n",
    " \n",
    "print(\"Even numbers in the list: \", even_nos)"
   ]
  },
  {
   "cell_type": "code",
   "execution_count": null,
   "id": "6f1ffa8f",
   "metadata": {},
   "outputs": [],
   "source": [
    "Write a Python program to print odd numbers in a List?\n"
   ]
  },
  {
   "cell_type": "code",
   "execution_count": 6,
   "id": "fbf2e4ad",
   "metadata": {},
   "outputs": [
    {
     "name": "stdout",
     "output_type": "stream",
     "text": [
      "21 45 93 "
     ]
    }
   ],
   "source": [
    "# Python program to print odd Numbers in a List\n",
    " \n",
    "# list of numbers\n",
    "list1 = [10, 21, 4, 45, 66, 93]\n",
    "i = 0\n",
    " \n",
    "# using while loop\n",
    "while(i < len(list1)):\n",
    " \n",
    "    # checking condition\n",
    "    if list1[i] % 2 != 0:\n",
    "        print(list1[i], end=\" \")\n",
    " \n",
    "    # increment i\n",
    "    i += 1\n",
    "    "
   ]
  },
  {
   "cell_type": "code",
   "execution_count": 7,
   "id": "c584b272",
   "metadata": {},
   "outputs": [
    {
     "name": "stdout",
     "output_type": "stream",
     "text": [
      "Object `List` not found.\n"
     ]
    }
   ],
   "source": [
    "Write a Python program to Remove empty List from List?\n"
   ]
  },
  {
   "cell_type": "code",
   "execution_count": 8,
   "id": "ec884430",
   "metadata": {},
   "outputs": [
    {
     "name": "stdout",
     "output_type": "stream",
     "text": [
      "The original list is : [5, 6, [], 3, [], [], 9]\n",
      "List after empty list removal : [5, 6, 3, 9]\n"
     ]
    }
   ],
   "source": [
    "# Python3 Code to Demonstrate Remove empty List\n",
    "# from List using filter() Method\n",
    " \n",
    "# Initializing list by custom values\n",
    "test_list = [5, 6, [], 3, [], [], 9]\n",
    " \n",
    "# Printing original list\n",
    "print(\"The original list is : \" + str(test_list))\n",
    " \n",
    "# Removing empty List from List\n",
    "# using filter() method\n",
    "res = list(filter(None, test_list))\n",
    " \n",
    "# Printing the resultant list\n",
    "print(\"List after empty list removal : \" + str(res))"
   ]
  },
  {
   "cell_type": "code",
   "execution_count": null,
   "id": "49d008d1",
   "metadata": {},
   "outputs": [],
   "source": [
    "Write a Python program to Cloning or Copying a list?\n"
   ]
  },
  {
   "cell_type": "code",
   "execution_count": 9,
   "id": "cc4ef5f5",
   "metadata": {},
   "outputs": [
    {
     "name": "stdout",
     "output_type": "stream",
     "text": [
      "Original List: [4, 8, 2, 10, 15, 18]\n",
      "After Cloning: [4, 8, 2, 10, 15, 18]\n"
     ]
    }
   ],
   "source": [
    "# Python program to copy or clone a list\n",
    "# Using the Slice Operator\n",
    "def Cloning(li1):\n",
    "    li_copy = li1[:]\n",
    "    return li_copy\n",
    " \n",
    " \n",
    "# Driver Code\n",
    "li1 = [4, 8, 2, 10, 15, 18]\n",
    "li2 = Cloning(li1)\n",
    "print(\"Original List:\", li1)\n",
    "print(\"After Cloning:\", li2)"
   ]
  },
  {
   "cell_type": "code",
   "execution_count": null,
   "id": "1db6ca90",
   "metadata": {},
   "outputs": [],
   "source": [
    "Write a Python program to Count occurrences of an element in a list?\n"
   ]
  },
  {
   "cell_type": "code",
   "execution_count": 10,
   "id": "a1180330",
   "metadata": {},
   "outputs": [
    {
     "name": "stdout",
     "output_type": "stream",
     "text": [
      "Enter size of list 5\n",
      "Enter element of list 1\n",
      "Enter element of list 2\n",
      "Enter element of list 3\n",
      "Enter element of list 1\n",
      "Enter element of list 2\n",
      "Original list:  [1, 2, 3, 1, 2]\n",
      "Enter element to be checked list: 3\n",
      "3  has occurred  1 times\n"
     ]
    }
   ],
   "source": [
    "li=[]\n",
    "n=int(input(\"Enter size of list \"))\n",
    "for i in range(0,n):\n",
    "    e=int(input(\"Enter element of list \"))\n",
    "    li.append(e)\n",
    "print(\"Original list: \",li)\n",
    "\n",
    "n=int(input(\"Enter element to be checked list: \"))\n",
    "\n",
    "#using count()\n",
    "print(n,\" has occurred \",li.count(n),\"times\")"
   ]
  },
  {
   "cell_type": "code",
   "execution_count": null,
   "id": "b3f1709e",
   "metadata": {},
   "outputs": [],
   "source": []
  },
  {
   "cell_type": "code",
   "execution_count": null,
   "id": "0405d7bc",
   "metadata": {},
   "outputs": [],
   "source": []
  }
 ],
 "metadata": {
  "kernelspec": {
   "display_name": "Python 3 (ipykernel)",
   "language": "python",
   "name": "python3"
  },
  "language_info": {
   "codemirror_mode": {
    "name": "ipython",
    "version": 3
   },
   "file_extension": ".py",
   "mimetype": "text/x-python",
   "name": "python",
   "nbconvert_exporter": "python",
   "pygments_lexer": "ipython3",
   "version": "3.9.12"
  }
 },
 "nbformat": 4,
 "nbformat_minor": 5
}
